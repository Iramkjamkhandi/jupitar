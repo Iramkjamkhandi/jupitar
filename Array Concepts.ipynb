{
 "cells": [
  {
   "cell_type": "markdown",
   "id": "342680f2",
   "metadata": {},
   "source": [
    "# NUMPY LIBRARY"
   ]
  },
  {
   "cell_type": "code",
   "execution_count": 1,
   "id": "518fa5a8",
   "metadata": {},
   "outputs": [
    {
     "data": {
      "text/plain": [
       "'1.21.5'"
      ]
     },
     "execution_count": 1,
     "metadata": {},
     "output_type": "execute_result"
    }
   ],
   "source": [
    "import numpy as np\n",
    "np.__version__\n",
    "'1.21.5'"
   ]
  },
  {
   "cell_type": "markdown",
   "id": "f26c7e93",
   "metadata": {},
   "source": [
    "# CREATE A 1-D ARRAY USING array()"
   ]
  },
  {
   "cell_type": "code",
   "execution_count": 2,
   "id": "8755fff4",
   "metadata": {},
   "outputs": [
    {
     "name": "stdout",
     "output_type": "stream",
     "text": [
      "[1 2 3]\n",
      "int32\n",
      "(3,)\n"
     ]
    }
   ],
   "source": [
    "import numpy as np\n",
    "a=np.array([1,2,3])\n",
    "print(a)\n",
    "print(a.dtype)\n",
    "print(a.shape)"
   ]
  },
  {
   "cell_type": "markdown",
   "id": "326ae8ca",
   "metadata": {},
   "source": [
    "# Create A 1-D ARRAY USING arange()"
   ]
  },
  {
   "cell_type": "code",
   "execution_count": 4,
   "id": "3212b3c6",
   "metadata": {},
   "outputs": [
    {
     "name": "stdout",
     "output_type": "stream",
     "text": [
      "[0 1 2]\n",
      "int32\n",
      "(3,)\n"
     ]
    }
   ],
   "source": [
    "import numpy as np\n",
    "a=np.arange(3)\n",
    "print(a)\n",
    "print(a.dtype)\n",
    "print(a.shape)"
   ]
  },
  {
   "cell_type": "markdown",
   "id": "db0ff097",
   "metadata": {},
   "source": [
    "# CREATE A 2=D ARRAY USING array()"
   ]
  },
  {
   "cell_type": "code",
   "execution_count": 5,
   "id": "644c898c",
   "metadata": {},
   "outputs": [
    {
     "name": "stdout",
     "output_type": "stream",
     "text": [
      "[[1 2 3]\n",
      " [4 5 6]]\n",
      "int32\n",
      "(2, 3)\n"
     ]
    }
   ],
   "source": [
    "import numpy as np\n",
    "b=np.array(([1,2,3],[4,5,6]))\n",
    "print(b)\n",
    "print(b.dtype)\n",
    "print(b.shape)"
   ]
  },
  {
   "cell_type": "markdown",
   "id": "89f2240f",
   "metadata": {},
   "source": [
    "# CREATE A 2=D ARRAY USING arange()"
   ]
  },
  {
   "cell_type": "code",
   "execution_count": 6,
   "id": "38f42ba9",
   "metadata": {},
   "outputs": [
    {
     "name": "stdout",
     "output_type": "stream",
     "text": [
      "[[0 1 2 3 4]\n",
      " [5 6 7 8 9]]\n",
      "int32\n",
      "(2, 5)\n"
     ]
    }
   ],
   "source": [
    "import numpy as np\n",
    "b=np.arange(10).reshape(2,5)\n",
    "print(b)\n",
    "print(b.dtype)\n",
    "print(b.shape)"
   ]
  },
  {
   "cell_type": "code",
   "execution_count": 7,
   "id": "1305da50",
   "metadata": {},
   "outputs": [
    {
     "name": "stdout",
     "output_type": "stream",
     "text": [
      "[[0 1]\n",
      " [2 3]\n",
      " [4 5]\n",
      " [6 7]\n",
      " [8 9]]\n",
      "int32\n",
      "(5, 2)\n"
     ]
    }
   ],
   "source": [
    "import numpy as np\n",
    "b=np.arange(10).reshape(5,2)\n",
    "print(b)\n",
    "print(b.dtype)\n",
    "print(b.shape)"
   ]
  },
  {
   "cell_type": "markdown",
   "id": "830be8f5",
   "metadata": {},
   "source": [
    "# CREATE A 3-D ARRAY USING array()"
   ]
  },
  {
   "cell_type": "code",
   "execution_count": 8,
   "id": "a8c2a385",
   "metadata": {},
   "outputs": [
    {
     "name": "stdout",
     "output_type": "stream",
     "text": [
      "[[[ 1  2  3]\n",
      "  [ 5  6  7]]\n",
      "\n",
      " [[ 8  9 10]\n",
      "  [11 12 13]]\n",
      "\n",
      " [[14 15 16]\n",
      "  [17 18 19]]]\n",
      "int32\n",
      "(3, 2, 3)\n"
     ]
    }
   ],
   "source": [
    "import numpy as np\n",
    "c=np.array(\n",
    "        [\n",
    "        [[1,2,3],[5,6,7]],\n",
    "        [[8,9,10],[11,12,13]],\n",
    "        [[14,15,16],[17,18,19]]\n",
    "        ]\n",
    ")\n",
    "print(c)\n",
    "print(c.dtype)\n",
    "print(c.shape)"
   ]
  },
  {
   "cell_type": "markdown",
   "id": "5e357f0a",
   "metadata": {},
   "source": [
    "# CREATE A 3-D ARRAY USING arange()"
   ]
  },
  {
   "cell_type": "code",
   "execution_count": 11,
   "id": "37f53605",
   "metadata": {},
   "outputs": [
    {
     "name": "stdout",
     "output_type": "stream",
     "text": [
      "[[[ 1  2]\n",
      "  [ 3  4]\n",
      "  [ 5  6]]\n",
      "\n",
      " [[ 7  8]\n",
      "  [ 9 10]\n",
      "  [11 12]]\n",
      "\n",
      " [[13 14]\n",
      "  [15 16]\n",
      "  [17 18]]]\n",
      "int32\n",
      "(3, 3, 2)\n"
     ]
    }
   ],
   "source": [
    "import numpy as np\n",
    "c=np.arange(1,19).reshape(3,3,2) \n",
    "print(c)\n",
    "print(c.dtype)\n",
    "print(c.shape)"
   ]
  },
  {
   "cell_type": "markdown",
   "id": "368f78f1",
   "metadata": {},
   "source": [
    "# CREATE ARRAY OF ONES (1-D)"
   ]
  },
  {
   "cell_type": "code",
   "execution_count": 12,
   "id": "841ffb3b",
   "metadata": {},
   "outputs": [
    {
     "name": "stdout",
     "output_type": "stream",
     "text": [
      "[1 1]\n",
      "int32\n",
      "(2,)\n"
     ]
    }
   ],
   "source": [
    "import numpy as np\n",
    "d=np.ones(2,dtype=np.int32)\n",
    "print(d)\n",
    "print(d.dtype)\n",
    "print(d.shape)"
   ]
  },
  {
   "cell_type": "markdown",
   "id": "6a2ca170",
   "metadata": {},
   "source": [
    "# CREATE ARRAY OF ONES(2-D)"
   ]
  },
  {
   "cell_type": "code",
   "execution_count": 1,
   "id": "eb114f82",
   "metadata": {},
   "outputs": [
    {
     "name": "stdout",
     "output_type": "stream",
     "text": [
      "[[1 1 1]\n",
      " [1 1 1]]\n",
      "int32\n",
      "(2, 3)\n"
     ]
    }
   ],
   "source": [
    "import numpy as np\n",
    "d=np.ones((2,3),dtype=np.int32)\n",
    "print(d)\n",
    "print(d.dtype)\n",
    "print(d.shape)"
   ]
  },
  {
   "cell_type": "markdown",
   "id": "e66939de",
   "metadata": {},
   "source": [
    "# CREATE ARRAY OF ONES(3-D)"
   ]
  },
  {
   "cell_type": "code",
   "execution_count": 2,
   "id": "880d6553",
   "metadata": {},
   "outputs": [
    {
     "name": "stdout",
     "output_type": "stream",
     "text": [
      "[[[1 1 1]\n",
      "  [1 1 1]]\n",
      "\n",
      " [[1 1 1]\n",
      "  [1 1 1]]\n",
      "\n",
      " [[1 1 1]\n",
      "  [1 1 1]]]\n",
      "int32\n",
      "(3, 2, 3)\n"
     ]
    }
   ],
   "source": [
    "import numpy as np\n",
    "d=np.ones((3,2,3),dtype=\"int32\")\n",
    "print(d)\n",
    "print(d.dtype)\n",
    "print(d.shape)"
   ]
  },
  {
   "cell_type": "markdown",
   "id": "4af04cf2",
   "metadata": {},
   "source": [
    "# CREATE ARRAY OF ZEROS(1-D)"
   ]
  },
  {
   "cell_type": "code",
   "execution_count": 3,
   "id": "bb4f16c4",
   "metadata": {},
   "outputs": [
    {
     "name": "stdout",
     "output_type": "stream",
     "text": [
      "[0 0 0]\n",
      "int32\n",
      "(3,)\n"
     ]
    }
   ],
   "source": [
    "import numpy as np\n",
    "f=np.zeros((3),dtype=np.int32)\n",
    "print(f)\n",
    "print(f.dtype)\n",
    "print(f.shape)"
   ]
  },
  {
   "cell_type": "markdown",
   "id": "e6959d50",
   "metadata": {},
   "source": [
    "# CREATE ARRAY OF ZEROS(2-D)"
   ]
  },
  {
   "cell_type": "code",
   "execution_count": 4,
   "id": "95d286f9",
   "metadata": {},
   "outputs": [
    {
     "name": "stdout",
     "output_type": "stream",
     "text": [
      "[[0 0 0]\n",
      " [0 0 0]]\n",
      "int32\n",
      "(2, 3)\n"
     ]
    }
   ],
   "source": [
    "import numpy as np\n",
    "f=np.zeros((2,3),dtype=np.int32)\n",
    "print(f)\n",
    "print(f.dtype)\n",
    "print(f.shape)"
   ]
  },
  {
   "cell_type": "markdown",
   "id": "e4f924d4",
   "metadata": {},
   "source": [
    "# CREATE ARRAY OF ZEROS(3-D)"
   ]
  },
  {
   "cell_type": "code",
   "execution_count": 5,
   "id": "a5a76fa9",
   "metadata": {},
   "outputs": [
    {
     "name": "stdout",
     "output_type": "stream",
     "text": [
      "[[[0 0 0]\n",
      "  [0 0 0]]\n",
      "\n",
      " [[0 0 0]\n",
      "  [0 0 0]]\n",
      "\n",
      " [[0 0 0]\n",
      "  [0 0 0]]]\n",
      "int32\n",
      "(3, 2, 3)\n"
     ]
    }
   ],
   "source": [
    "import numpy as np\n",
    "f=np.zeros((3,2,3),dtype=np.int32)\n",
    "print(f)\n",
    "print(f.dtype)\n",
    "print(f.shape)"
   ]
  },
  {
   "cell_type": "markdown",
   "id": "c9b24f8e",
   "metadata": {},
   "source": [
    "# CREATE AN ARRAY WITH RANDOM NUMBERS(1-D)"
   ]
  },
  {
   "cell_type": "code",
   "execution_count": 6,
   "id": "b1bac285",
   "metadata": {},
   "outputs": [
    {
     "name": "stdout",
     "output_type": "stream",
     "text": [
      "[1 1 2 3 1 3]\n",
      "int32\n",
      "(6,)\n"
     ]
    }
   ],
   "source": [
    "import numpy as np\n",
    "a=np.random.randint(1,6,size=(6))\n",
    "print(a)\n",
    "print(a.dtype)\n",
    "print(a.shape)"
   ]
  },
  {
   "cell_type": "markdown",
   "id": "7a9c7a45",
   "metadata": {},
   "source": [
    "# CREATE AN ARRAY WITH RANDOM NUMBERS(2-D)"
   ]
  },
  {
   "cell_type": "code",
   "execution_count": 7,
   "id": "f42f4c02",
   "metadata": {},
   "outputs": [
    {
     "name": "stdout",
     "output_type": "stream",
     "text": [
      "[[ 6  2  8]\n",
      " [ 3  2 10]]\n",
      "int32\n",
      "(2, 3)\n"
     ]
    }
   ],
   "source": [
    "import numpy as np\n",
    "b=np.random.randint(1,11,size=(2,3))\n",
    "print(b)\n",
    "print(b.dtype)\n",
    "print(b.shape)"
   ]
  },
  {
   "cell_type": "markdown",
   "id": "2d7957b6",
   "metadata": {},
   "source": [
    "# CREATE AN ARRAY WITH RANDOM NUMBERS(3-D)"
   ]
  },
  {
   "cell_type": "code",
   "execution_count": 8,
   "id": "b62b47b3",
   "metadata": {},
   "outputs": [
    {
     "name": "stdout",
     "output_type": "stream",
     "text": [
      "[[[20 19 17]\n",
      "  [15 18 10]]\n",
      "\n",
      " [[20 12 16]\n",
      "  [19 17 15]]\n",
      "\n",
      " [[19 11 11]\n",
      "  [20 18 14]]]\n",
      "int32\n",
      "(3, 2, 3)\n"
     ]
    }
   ],
   "source": [
    "import numpy as np\n",
    "c=np.random.randint(10,21,size=(3,2,3))\n",
    "print(c)\n",
    "print(c.dtype)\n",
    "print(c.shape)"
   ]
  },
  {
   "cell_type": "markdown",
   "id": "40790fbd",
   "metadata": {},
   "source": [
    "# CREATE ARRAY WITH SINGLE LOW MULTIPLE HIGH"
   ]
  },
  {
   "cell_type": "code",
   "execution_count": 9,
   "id": "8c093c10",
   "metadata": {},
   "outputs": [
    {
     "name": "stdout",
     "output_type": "stream",
     "text": [
      "[ 6 19 24]\n",
      "int32\n",
      "(3,)\n"
     ]
    }
   ],
   "source": [
    "import numpy as np\n",
    "a=np.random.randint(5,[10,20,30])\n",
    "print(a)\n",
    "print(a.dtype)\n",
    "print(a.shape)"
   ]
  },
  {
   "cell_type": "markdown",
   "id": "4b31ac06",
   "metadata": {},
   "source": [
    "# CREATE ARRAY WITH MULTIPLE LOW SINGLE HIGH"
   ]
  },
  {
   "cell_type": "code",
   "execution_count": 10,
   "id": "d20d7c44",
   "metadata": {},
   "outputs": [
    {
     "name": "stdout",
     "output_type": "stream",
     "text": [
      "[7 5 7]\n",
      "int32\n",
      "(3,)\n"
     ]
    }
   ],
   "source": [
    "import numpy as np\n",
    "b=np.random.randint([1,2,3],10)\n",
    "print(b)\n",
    "print(b.dtype)\n",
    "print(b.shape)"
   ]
  },
  {
   "cell_type": "markdown",
   "id": "e9ae98f4",
   "metadata": {},
   "source": [
    "# CREATE ARRAY WITH MULTIPLE LOW MULTIPLE HIGH"
   ]
  },
  {
   "cell_type": "code",
   "execution_count": 11,
   "id": "d0e082e4",
   "metadata": {},
   "outputs": [
    {
     "name": "stdout",
     "output_type": "stream",
     "text": [
      "[ 6 19 24]\n",
      "int32\n",
      "(3,)\n"
     ]
    }
   ],
   "source": [
    "import numpy as np\n",
    "b=np.random.randint([1,2,3,5],[10,20,30,40])\n",
    "print(a)\n",
    "print(a.dtype)\n",
    "print(a.shape)"
   ]
  },
  {
   "cell_type": "markdown",
   "id": "4374371b",
   "metadata": {},
   "source": [
    "# CREATE ARRAY WITH RANDOM NUMBERS USING random()(1-D)"
   ]
  },
  {
   "cell_type": "code",
   "execution_count": 12,
   "id": "d4f4932d",
   "metadata": {},
   "outputs": [
    {
     "name": "stdout",
     "output_type": "stream",
     "text": [
      "[0.86831305 0.47522353 0.94823554 0.14821312 0.16415614]\n",
      "float64\n",
      "(5,)\n"
     ]
    }
   ],
   "source": [
    "import numpy as np\n",
    "a=np.random.rand(5)\n",
    "print(a)\n",
    "print(a.dtype)\n",
    "print(a.shape)"
   ]
  },
  {
   "cell_type": "markdown",
   "id": "d3ff691f",
   "metadata": {},
   "source": [
    "# CREATE NUMPY WITH RANDOM NUMBERS USING random() (2-D)"
   ]
  },
  {
   "cell_type": "code",
   "execution_count": 13,
   "id": "e9ec9519",
   "metadata": {},
   "outputs": [
    {
     "name": "stdout",
     "output_type": "stream",
     "text": [
      "[[-0.64341059  0.07383063]\n",
      " [-0.28692763  1.62936818]\n",
      " [-0.43966843 -0.74049551]]\n",
      "float64\n",
      "(3, 2)\n"
     ]
    }
   ],
   "source": [
    "import numpy as np\n",
    "b=np.random.randn(3,2)\n",
    "print(b)\n",
    "print(b.dtype)\n",
    "print(b.shape)"
   ]
  },
  {
   "cell_type": "markdown",
   "id": "edf54d03",
   "metadata": {},
   "source": [
    "# CREATE ARRAY WITH RANDOM NUMBERS USING randn() (3-D)"
   ]
  },
  {
   "cell_type": "code",
   "execution_count": 14,
   "id": "f4070805",
   "metadata": {},
   "outputs": [
    {
     "name": "stdout",
     "output_type": "stream",
     "text": [
      "[[[ 1.12730467 -0.90574636]\n",
      "  [-0.74907263  0.03676599]\n",
      "  [-0.28884888 -0.31987602]]\n",
      "\n",
      " [[-0.00214744 -1.03102747]\n",
      "  [ 0.90596327  0.02697542]\n",
      "  [-0.58359079 -0.19650718]]\n",
      "\n",
      " [[ 0.79558909 -0.42069816]\n",
      "  [-1.30362721  1.46150766]\n",
      "  [ 0.03597108  1.08395228]]]\n",
      "float64\n",
      "(3, 3, 2)\n"
     ]
    }
   ],
   "source": [
    "import numpy as np\n",
    "c=np.random.randn(3,3,2)\n",
    "print(c)\n",
    "print(c.dtype)\n",
    "print(c.shape)"
   ]
  },
  {
   "cell_type": "markdown",
   "id": "17affb98",
   "metadata": {},
   "source": [
    "# CREATE ARRAY OF RANDOM NUMBERS USING rand()"
   ]
  },
  {
   "cell_type": "code",
   "execution_count": 15,
   "id": "212cd22a",
   "metadata": {},
   "outputs": [
    {
     "name": "stdout",
     "output_type": "stream",
     "text": [
      "[0.71846777 0.11073105 0.15407341 0.54310495 0.67096559]\n",
      "float64\n",
      "(5,)\n"
     ]
    }
   ],
   "source": [
    "import numpy as np\n",
    "a=np.random.rand(5)\n",
    "print(a)\n",
    "print(a.dtype)\n",
    "print(a.shape)"
   ]
  },
  {
   "cell_type": "markdown",
   "id": "405497a2",
   "metadata": {},
   "source": [
    "# POSITIVE INDEXING IN ARRAY(left-right)"
   ]
  },
  {
   "cell_type": "code",
   "execution_count": 16,
   "id": "c8fcdd98",
   "metadata": {},
   "outputs": [
    {
     "name": "stdout",
     "output_type": "stream",
     "text": [
      "3\n",
      "8\n"
     ]
    },
    {
     "data": {
      "text/plain": [
       "4"
      ]
     },
     "execution_count": 16,
     "metadata": {},
     "output_type": "execute_result"
    }
   ],
   "source": [
    "import numpy as np\n",
    "arr=np.array([1,2,3,4,5,6,7,8])\n",
    "print(arr[2])\n",
    "print(arr[7])\n",
    "arr[3]"
   ]
  },
  {
   "cell_type": "code",
   "execution_count": 17,
   "id": "927e2747",
   "metadata": {},
   "outputs": [
    {
     "name": "stdout",
     "output_type": "stream",
     "text": [
      "3\n",
      "6\n",
      "5\n",
      "9\n"
     ]
    }
   ],
   "source": [
    "import numpy as np\n",
    "arr=np.array([[1,2,3],[5,6,7],[8,9,10]])\n",
    "print(arr[0,2])\n",
    "print(arr[1,1])\n",
    "print(arr[1,0])\n",
    "print(arr[2,1])"
   ]
  },
  {
   "cell_type": "code",
   "execution_count": 18,
   "id": "d314a965",
   "metadata": {},
   "outputs": [
    {
     "name": "stdout",
     "output_type": "stream",
     "text": [
      "5\n",
      "400\n",
      "13\n"
     ]
    }
   ],
   "source": [
    "#array with 3-D\n",
    "import numpy as np\n",
    "arr=np.array(\n",
    "    [\n",
    "        [[1,2,3],[4,5,6]],\n",
    "        [[10,20,30],[12,13,14]],\n",
    "        [[100,200,300],[400,500,600]]    \n",
    "    ]\n",
    "            )\n",
    "print(arr[0,1,1])\n",
    "print(arr[2,1,0])\n",
    "print(arr[1,1,1])"
   ]
  },
  {
   "cell_type": "markdown",
   "id": "8d422b12",
   "metadata": {},
   "source": [
    "# NEGETIVE INDEXING IN ARRAY(right - left)"
   ]
  },
  {
   "cell_type": "code",
   "execution_count": 19,
   "id": "b30bf57e",
   "metadata": {},
   "outputs": [
    {
     "name": "stdout",
     "output_type": "stream",
     "text": [
      "6\n",
      "7\n",
      "1\n"
     ]
    }
   ],
   "source": [
    "#array with 1-D\n",
    "import numpy as np\n",
    "arr=np.array([1,2,3,4,5,6,7])\n",
    "print(arr[-2])\n",
    "print(arr[-1])\n",
    "print(arr[-7])"
   ]
  },
  {
   "cell_type": "code",
   "execution_count": 20,
   "id": "d342dbed",
   "metadata": {},
   "outputs": [
    {
     "name": "stdout",
     "output_type": "stream",
     "text": [
      "5\n",
      "3\n"
     ]
    }
   ],
   "source": [
    "#array with 2-D\n",
    "import numpy as np\n",
    "arr=np.array([[1,2,3],[4,5,6]])\n",
    "print(arr[-1,-2])\n",
    "print(arr[-2,-1])"
   ]
  },
  {
   "cell_type": "markdown",
   "id": "7d7723c8",
   "metadata": {},
   "source": [
    "# MIXING OF (+ AND -)"
   ]
  },
  {
   "cell_type": "code",
   "execution_count": 21,
   "id": "8e5dcc73",
   "metadata": {},
   "outputs": [
    {
     "name": "stdout",
     "output_type": "stream",
     "text": [
      "7\n",
      "7\n",
      "44\n",
      "45\n"
     ]
    }
   ],
   "source": [
    "import numpy as np\n",
    "arr=np.array(\n",
    "    [\n",
    "        [[2,3,4],[5,6,7]],\n",
    "        [[10,2,4],[6,7,29]],\n",
    "        [[22,11,14],[23,45,44]]\n",
    "    ]\n",
    ")\n",
    "print(arr[1,1,1])\n",
    "print(arr[-2,-1,-2])\n",
    "print(arr[2,-1,2])\n",
    "print(arr[-1,1,-2])"
   ]
  },
  {
   "cell_type": "markdown",
   "id": "2eae9958",
   "metadata": {},
   "source": [
    "# NUMPY ARRAY SLICING"
   ]
  },
  {
   "cell_type": "code",
   "execution_count": 22,
   "id": "6ce92f8a",
   "metadata": {},
   "outputs": [
    {
     "name": "stdout",
     "output_type": "stream",
     "text": [
      "[2 3 4 5]\n"
     ]
    }
   ],
   "source": [
    "import numpy as np\n",
    "arr=np.array([1,2,3,4,5,6,7])\n",
    "print(arr[1:5])"
   ]
  },
  {
   "cell_type": "code",
   "execution_count": 24,
   "id": "a89e07f5",
   "metadata": {},
   "outputs": [
    {
     "name": "stdout",
     "output_type": "stream",
     "text": [
      "[5 6 7 8 9]\n"
     ]
    }
   ],
   "source": [
    "import numpy as np\n",
    "arr=np.array([1,2,3,4,5,6,7,8,9])\n",
    "print(arr[4:])"
   ]
  },
  {
   "cell_type": "code",
   "execution_count": 25,
   "id": "a8a029a1",
   "metadata": {},
   "outputs": [
    {
     "name": "stdout",
     "output_type": "stream",
     "text": [
      "[1 2 3 4]\n"
     ]
    }
   ],
   "source": [
    "import numpy as np\n",
    "arr=np.array([1,2,3,4,5,6,7])\n",
    "print(arr[:4])"
   ]
  },
  {
   "cell_type": "markdown",
   "id": "ec9df751",
   "metadata": {},
   "source": [
    "# NEGETIVE SLICING"
   ]
  },
  {
   "cell_type": "code",
   "execution_count": 27,
   "id": "68cfcbf6",
   "metadata": {},
   "outputs": [
    {
     "name": "stdout",
     "output_type": "stream",
     "text": [
      "[5 6]\n",
      "[2 3 4 5]\n"
     ]
    }
   ],
   "source": [
    "import numpy as np\n",
    "arr=np.array([1,2,3,4,5,6,7])\n",
    "print(arr[-3:-1])\n",
    "print(arr[-6:-2])"
   ]
  },
  {
   "cell_type": "code",
   "execution_count": 28,
   "id": "aeff929c",
   "metadata": {},
   "outputs": [
    {
     "name": "stdout",
     "output_type": "stream",
     "text": [
      "[2 4]\n"
     ]
    }
   ],
   "source": [
    "import numpy as np\n",
    "arr=np.array([1,2,3,4,5,6,7])\n",
    "print(arr[1:5:2])"
   ]
  },
  {
   "cell_type": "code",
   "execution_count": 29,
   "id": "add6fc83",
   "metadata": {},
   "outputs": [
    {
     "name": "stdout",
     "output_type": "stream",
     "text": [
      "[1 3 5 7]\n"
     ]
    }
   ],
   "source": [
    "import numpy as np\n",
    "arr=np.array([1,2,3,4,5,6,7])\n",
    "print(arr[::2])"
   ]
  },
  {
   "cell_type": "markdown",
   "id": "e0a3879b",
   "metadata": {},
   "source": [
    "# SLICING 2-D ARRAYS"
   ]
  },
  {
   "cell_type": "code",
   "execution_count": 30,
   "id": "30a0ea2a",
   "metadata": {},
   "outputs": [
    {
     "name": "stdout",
     "output_type": "stream",
     "text": [
      "[7 8 9]\n"
     ]
    }
   ],
   "source": [
    "\n",
    "import numpy as np\n",
    "arr=np.array([[1,2,3,4,5],[6,7,8,9,10]])\n",
    "print(arr[1,1:4])"
   ]
  },
  {
   "cell_type": "code",
   "execution_count": 31,
   "id": "0effad7b",
   "metadata": {},
   "outputs": [
    {
     "name": "stdout",
     "output_type": "stream",
     "text": [
      "[3 8]\n"
     ]
    }
   ],
   "source": [
    "import numpy as np\n",
    "arr=np.array([[1,2,3,4,5],[6,7,8,9,10]])\n",
    "print(arr[0:2,2])"
   ]
  },
  {
   "cell_type": "code",
   "execution_count": 32,
   "id": "c3c475a8",
   "metadata": {},
   "outputs": [
    {
     "name": "stdout",
     "output_type": "stream",
     "text": [
      "[[2 3 4]\n",
      " [7 8 9]]\n"
     ]
    }
   ],
   "source": [
    "import numpy as np\n",
    "arr=np.array([[1,2,3,4,5],[6,7,8,9,10]])\n",
    "print(arr[0:2,1:4])"
   ]
  },
  {
   "cell_type": "markdown",
   "id": "2e90d792",
   "metadata": {},
   "source": [
    "# NUMPY ARRAY COPY VS VIEW"
   ]
  },
  {
   "cell_type": "code",
   "execution_count": 1,
   "id": "4104b95e",
   "metadata": {},
   "outputs": [
    {
     "name": "stdout",
     "output_type": "stream",
     "text": [
      "original array\n",
      "[1 2 3 4 5]\n",
      "affected array\n",
      "[ 1  2 10  4  5]\n",
      "[1 2 3 4 5]\n"
     ]
    }
   ],
   "source": [
    "import numpy as np\n",
    "arr = np.array([1,2,3,4,5])\n",
    "a = arr.copy()\n",
    "print(\"original array\")\n",
    "print(arr)\n",
    "print(\"affected array\")\n",
    "arr[2] = 10\n",
    "print(arr)\n",
    "print(a)\n"
   ]
  },
  {
   "cell_type": "code",
   "execution_count": 2,
   "id": "785698aa",
   "metadata": {},
   "outputs": [
    {
     "name": "stdout",
     "output_type": "stream",
     "text": [
      "original array\n",
      "[1 2 3 4 5]\n",
      "viewed array\n",
      "[1 2 3 4 5]\n",
      "affected array\n",
      "arr :  [30  2  3  4  5]\n",
      " x : [30  2  3  4  5]\n"
     ]
    }
   ],
   "source": [
    "import numpy as np\n",
    "arr = np.array([1,2,3,4,5])\n",
    "x = arr.view()\n",
    "print(\"original array\")\n",
    "print(arr)\n",
    "print(\"viewed array\")\n",
    "print(x)\n",
    "print(\"affected array\")\n",
    "arr[0] = 30\n",
    "print(\"arr : \",arr)\n",
    "print(\" x :\",x)"
   ]
  },
  {
   "cell_type": "markdown",
   "id": "1e588b6e",
   "metadata": {},
   "source": [
    "# reshape() FUNCTION"
   ]
  },
  {
   "cell_type": "code",
   "execution_count": 3,
   "id": "c46480d3",
   "metadata": {},
   "outputs": [
    {
     "name": "stdout",
     "output_type": "stream",
     "text": [
      "original array : [ 1  2  3  4  5  6  7  8  9 10]\n"
     ]
    }
   ],
   "source": [
    "import numpy as np\n",
    "arr=np.array([1,2,3,4,5,6,7,8,9,10])\n",
    "print(\"original array :\",arr) #1d"
   ]
  },
  {
   "cell_type": "code",
   "execution_count": 4,
   "id": "74816df6",
   "metadata": {},
   "outputs": [
    {
     "name": "stdout",
     "output_type": "stream",
     "text": [
      "2D array with shape 5x2\n",
      "[[ 1  2]\n",
      " [ 3  4]\n",
      " [ 5  6]\n",
      " [ 7  8]\n",
      " [ 9 10]]\n",
      "2D array with shape 2x5\n",
      "[[ 1  2  3  4  5]\n",
      " [ 6  7  8  9 10]]\n"
     ]
    }
   ],
   "source": [
    "#2D ARRAY\n",
    "b = arr.reshape(5,2) \n",
    "print(\"2D array with shape 5x2\")\n",
    "print(b)\n",
    "c = arr.reshape(2,5) \n",
    "print(\"2D array with shape 2x5\")\n",
    "print(c)"
   ]
  },
  {
   "cell_type": "code",
   "execution_count": 5,
   "id": "6ac27374",
   "metadata": {},
   "outputs": [
    {
     "name": "stdout",
     "output_type": "stream",
     "text": [
      "3D array with shape 2,1,5\n",
      "[[[ 1  2  3  4  5]]\n",
      "\n",
      " [[ 6  7  8  9 10]]]\n"
     ]
    }
   ],
   "source": [
    "#3D ARRAY \n",
    "d = arr.reshape(2,1,5)\n",
    "print(\"3D array with shape 2,1,5\")\n",
    "print(d)"
   ]
  },
  {
   "cell_type": "markdown",
   "id": "a1b61a40",
   "metadata": {},
   "source": [
    "# AGREEGATION FUNCTIONS\n",
    "sum() FUNCTION"
   ]
  },
  {
   "cell_type": "code",
   "execution_count": 6,
   "id": "63008900",
   "metadata": {},
   "outputs": [
    {
     "name": "stdout",
     "output_type": "stream",
     "text": [
      "original 1D array :  [1 2 3 4 5]\n",
      "sum=15\n",
      "\n"
     ]
    }
   ],
   "source": [
    "import numpy as np\n",
    "arr=np.array([1,2,3,4,5]) #1D\n",
    "print(\"original 1D array : \",arr)\n",
    "print(f\"sum={np.sum(arr)}\")\n",
    "print()"
   ]
  },
  {
   "cell_type": "code",
   "execution_count": 7,
   "id": "c2406580",
   "metadata": {},
   "outputs": [
    {
     "name": "stdout",
     "output_type": "stream",
     "text": [
      "original 2D array :  [[ 1  2  3  4  5]\n",
      " [ 6  7  8  9 10]]\n",
      "sum=55\n",
      "\n"
     ]
    }
   ],
   "source": [
    "arr1=np.array([[1,2,3,4,5],[6,7,8,9,10]])\n",
    "print(\"original 2D array : \",arr1)\n",
    "print(f\"sum={np.sum(arr1)}\")\n",
    "print()"
   ]
  },
  {
   "cell_type": "code",
   "execution_count": 8,
   "id": "dcac7943",
   "metadata": {},
   "outputs": [
    {
     "name": "stdout",
     "output_type": "stream",
     "text": [
      "original 3D array :  [[[ 1  2  3]\n",
      "  [ 4  5  6]]\n",
      "\n",
      " [[10 20 30]\n",
      "  [40 50 60]]]\n",
      "sum=231\n"
     ]
    }
   ],
   "source": [
    "arr2=np.array(\n",
    "              [\n",
    "               [[1,2,3],[4,5,6]],\n",
    "               [[10,20,30],[40,50,60]]    \n",
    "              ]\n",
    "             )\n",
    "print(\"original 3D array : \",arr2)\n",
    "print(f\"sum={np.sum(arr2)}\")  \n"
   ]
  },
  {
   "cell_type": "code",
   "execution_count": 9,
   "id": "8c798fb4",
   "metadata": {},
   "outputs": [
    {
     "name": "stdout",
     "output_type": "stream",
     "text": [
      "original array \n",
      ": [[1 2 3 4]\n",
      " [5 6 7 8]]\n",
      "Across Colswise\n",
      "sum = [ 6  8 10 12]\n",
      "Across Rowswise\n",
      "sum = [10 26]\n"
     ]
    }
   ],
   "source": [
    "import numpy as np\n",
    "arr = np.array([[1,2,3,4],[5,6,7,8]])\n",
    "print(\"original array \\n:\",arr)\n",
    "print(\"Across Colswise\") #column wise\n",
    "print(\"sum =\",np.sum(arr , axis=0))\n",
    "print(\"Across Rowswise\") #Row wise\n",
    "print(\"sum =\",np.sum(arr , axis=1))\n"
   ]
  },
  {
   "cell_type": "markdown",
   "id": "0485855d",
   "metadata": {},
   "source": [
    "# mean() FUNCTION"
   ]
  },
  {
   "cell_type": "code",
   "execution_count": 10,
   "id": "55a69faf",
   "metadata": {},
   "outputs": [
    {
     "name": "stdout",
     "output_type": "stream",
     "text": [
      "original array :  [1 2 3 4 5 6 7 8]\n",
      "mean :  4.5\n"
     ]
    }
   ],
   "source": [
    "import numpy as np\n",
    "arr = np.array([1,2,3,4,5,6,7,8])\n",
    "print(\"original array : \",arr)\n",
    "print(\"mean : \",np.mean(arr)) "
   ]
  },
  {
   "cell_type": "code",
   "execution_count": 11,
   "id": "da9674ce",
   "metadata": {},
   "outputs": [
    {
     "name": "stdout",
     "output_type": "stream",
     "text": [
      "original array \n",
      ":  [[1 2 3 4]\n",
      " [5 6 7 8]]\n",
      "Across Rows\n",
      "Mean = [3. 4. 5. 6.]\n",
      "Across Columns\n",
      "Mean = [2.5 6.5]\n"
     ]
    }
   ],
   "source": [
    "import numpy as np\n",
    "arr = np.array([[1,2,3,4],[5,6,7,8]])\n",
    "print(\"original array \\n: \",arr)\n",
    "print(\"Across Rows\") #column wise\n",
    "print(\"Mean =\",np.mean(arr , axis=0))\n",
    "print(\"Across Columns\") #Row wise\n",
    "print(\"Mean =\",np.mean(arr , axis=1))"
   ]
  },
  {
   "cell_type": "markdown",
   "id": "f79b1f40",
   "metadata": {},
   "source": [
    "# std() FUNCTION"
   ]
  },
  {
   "cell_type": "code",
   "execution_count": 12,
   "id": "4e4c2fa8",
   "metadata": {},
   "outputs": [
    {
     "name": "stdout",
     "output_type": "stream",
     "text": [
      "original array :  [[1 2 3 4]\n",
      " [5 6 7 8]]\n",
      "\n",
      "standard div :  2.29128784747792\n"
     ]
    }
   ],
   "source": [
    "import numpy as np\n",
    "arr = np.array([[1,2,3,4],[5,6,7,8]])\n",
    "print(\"original array : \",arr)\n",
    "print()\n",
    "print(\"standard div : \",np.std(arr)) "
   ]
  },
  {
   "cell_type": "code",
   "execution_count": 13,
   "id": "f572ac9f",
   "metadata": {},
   "outputs": [
    {
     "name": "stdout",
     "output_type": "stream",
     "text": [
      "original array :  [[1 2 3 4]\n",
      " [5 6 7 8]]\n",
      "Across Rows\n",
      "std div = [2. 2. 2. 2.]\n",
      "\n",
      "Across Columns\n",
      "std div = [1.11803399 1.11803399]\n"
     ]
    }
   ],
   "source": [
    "import numpy as np\n",
    "arr = np.array([[1,2,3,4],[5,6,7,8]])\n",
    "print(\"original array : \",arr)\n",
    "print(\"Across Rows\") #column wise\n",
    "print(\"std div =\",np.std(arr , axis=0))\n",
    "print()\n",
    "print(\"Across Columns\") #Row wise\n",
    "print(\"std div =\",np.std(arr , axis=1))"
   ]
  },
  {
   "cell_type": "markdown",
   "id": "63c03415",
   "metadata": {},
   "source": [
    "# var() FUNCTION"
   ]
  },
  {
   "cell_type": "code",
   "execution_count": 14,
   "id": "98fef1be",
   "metadata": {},
   "outputs": [
    {
     "name": "stdout",
     "output_type": "stream",
     "text": [
      "original array :  [[1 2 3 4]\n",
      " [5 6 7 8]]\n",
      "\n",
      "varients :  5.25\n"
     ]
    }
   ],
   "source": [
    "import numpy as np\n",
    "arr = np.array([[1,2,3,4],[5,6,7,8]])\n",
    "print(\"original array : \",arr)\n",
    "print()\n",
    "print(\"varients : \",np.var(arr)) "
   ]
  },
  {
   "cell_type": "code",
   "execution_count": 15,
   "id": "067e22ea",
   "metadata": {},
   "outputs": [
    {
     "name": "stdout",
     "output_type": "stream",
     "text": [
      "original array :  [[1 2 3 4]\n",
      " [5 6 7 8]]\n",
      "Across Rows\n",
      "var = [4. 4. 4. 4.]\n",
      "\n",
      "Across Columns\n",
      "var = [1.25 1.25]\n"
     ]
    }
   ],
   "source": [
    "import numpy as np\n",
    "arr = np.array([[1,2,3,4],[5,6,7,8]])\n",
    "print(\"original array : \",arr)\n",
    "print(\"Across Rows\") #column wise\n",
    "print(\"var =\",np.var(arr , axis=0))\n",
    "print()\n",
    "print(\"Across Columns\") #Row wise\n",
    "print(\"var =\",np.var(arr , axis=1))"
   ]
  },
  {
   "cell_type": "markdown",
   "id": "3b854bba",
   "metadata": {},
   "source": [
    "# min() FUNCTION"
   ]
  },
  {
   "cell_type": "code",
   "execution_count": 16,
   "id": "a897b9fc",
   "metadata": {},
   "outputs": [
    {
     "name": "stdout",
     "output_type": "stream",
     "text": [
      "original array :  [[1 2 3 4]\n",
      " [5 6 7 8]]\n",
      "\n",
      "minimum :  1\n"
     ]
    }
   ],
   "source": [
    "import numpy as np\n",
    "arr = np.array([[1,2,3,4],[5,6,7,8]])\n",
    "print(\"original array : \",arr)\n",
    "print()\n",
    "print(\"minimum : \",np.min(arr)) "
   ]
  },
  {
   "cell_type": "code",
   "execution_count": 17,
   "id": "ffd29757",
   "metadata": {},
   "outputs": [
    {
     "name": "stdout",
     "output_type": "stream",
     "text": [
      "original array :  [[1 2 3 4]\n",
      " [5 6 7 8]]\n",
      "Across Rows\n",
      "min = [1 2 3 4]\n",
      "\n",
      "Across Columns\n",
      "min = [1 5]\n"
     ]
    }
   ],
   "source": [
    "import numpy as np\n",
    "arr = np.array([[1,2,3,4],[5,6,7,8]])\n",
    "print(\"original array : \",arr)\n",
    "print(\"Across Rows\") #column wise\n",
    "print(\"min =\",np.min(arr , axis=0))\n",
    "print()\n",
    "print(\"Across Columns\") #Row wise\n",
    "print(\"min =\",np.min(arr , axis=1))"
   ]
  },
  {
   "cell_type": "markdown",
   "id": "147966c3",
   "metadata": {},
   "source": [
    "# max() FUNCTION"
   ]
  },
  {
   "cell_type": "code",
   "execution_count": 18,
   "id": "a16a2108",
   "metadata": {},
   "outputs": [
    {
     "name": "stdout",
     "output_type": "stream",
     "text": [
      "original array :  [[1 2 3 4]\n",
      " [5 6 7 8]]\n",
      "\n",
      "maximum :  8\n"
     ]
    }
   ],
   "source": [
    "import numpy as np\n",
    "arr = np.array([[1,2,3,4],[5,6,7,8]])\n",
    "print(\"original array : \",arr)\n",
    "print()\n",
    "print(\"maximum : \",np.max(arr)) "
   ]
  },
  {
   "cell_type": "code",
   "execution_count": 19,
   "id": "50e99afd",
   "metadata": {},
   "outputs": [
    {
     "name": "stdout",
     "output_type": "stream",
     "text": [
      "original array :  [[1 2 3 4]\n",
      " [5 6 7 8]]\n",
      "Across Rows\n",
      "max = [5 6 7 8]\n",
      "\n",
      "Across Columns\n",
      "max = [4 8]\n"
     ]
    }
   ],
   "source": [
    "\n",
    "import numpy as np\n",
    "arr = np.array([[1,2,3,4],[5,6,7,8]])\n",
    "print(\"original array : \",arr)\n",
    "print(\"Across Rows\") #column wise\n",
    "print(\"max =\",np.max(arr , axis=0))\n",
    "print()\n",
    "print(\"Across Columns\") #Row wise\n",
    "print(\"max =\",np.max(arr , axis=1))"
   ]
  },
  {
   "cell_type": "code",
   "execution_count": null,
   "id": "5010aa89",
   "metadata": {},
   "outputs": [],
   "source": []
  }
 ],
 "metadata": {
  "kernelspec": {
   "display_name": "Python 3 (ipykernel)",
   "language": "python",
   "name": "python3"
  },
  "language_info": {
   "codemirror_mode": {
    "name": "ipython",
    "version": 3
   },
   "file_extension": ".py",
   "mimetype": "text/x-python",
   "name": "python",
   "nbconvert_exporter": "python",
   "pygments_lexer": "ipython3",
   "version": "3.9.12"
  }
 },
 "nbformat": 4,
 "nbformat_minor": 5
}
